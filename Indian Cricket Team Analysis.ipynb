{
  "nbformat": 4,
  "nbformat_minor": 0,
  "metadata": {
    "colab": {
      "name": "Untitled",
      "provenance": [],
      "authorship_tag": "ABX9TyNIwVUB53Z75jnj8cNu+mBb",
      "include_colab_link": true
    },
    "kernelspec": {
      "name": "python3",
      "display_name": "Python 3"
    }
  },
  "cells": [
    {
      "cell_type": "markdown",
      "metadata": {
        "id": "view-in-github",
        "colab_type": "text"
      },
      "source": [
        "<a href=\"https://colab.research.google.com/github/yashvyas1405/Indian-Team-Data-Analysis-of-2018-and-2019-macthes/blob/main/Indian%20Cricket%20Team%20Analysis.ipynb\" target=\"_parent\"><img src=\"https://colab.research.google.com/assets/colab-badge.svg\" alt=\"Open In Colab\"/></a>"
      ]
    },
    {
      "cell_type": "code",
      "metadata": {
        "id": "eBQqPVzHClMG"
      },
      "source": [
        "import pandas as pd\r\n",
        "import seaborn as sns\r\n",
        "import matplotlib.pyplot as plt\r\n",
        "import numpy as np"
      ],
      "execution_count": 24,
      "outputs": []
    },
    {
      "cell_type": "code",
      "metadata": {
        "colab": {
          "base_uri": "https://localhost:8080/"
        },
        "id": "dd4RhuKEJFbj",
        "outputId": "72325e5f-0d8c-40a1-9fa8-849684548788"
      },
      "source": [
        "pip install pandasql"
      ],
      "execution_count": 25,
      "outputs": [
        {
          "output_type": "stream",
          "text": [
            "Requirement already satisfied: pandasql in /usr/local/lib/python3.6/dist-packages (0.7.3)\n",
            "Requirement already satisfied: numpy in /usr/local/lib/python3.6/dist-packages (from pandasql) (1.19.4)\n",
            "Requirement already satisfied: sqlalchemy in /usr/local/lib/python3.6/dist-packages (from pandasql) (1.3.20)\n",
            "Requirement already satisfied: pandas in /usr/local/lib/python3.6/dist-packages (from pandasql) (1.1.5)\n",
            "Requirement already satisfied: python-dateutil>=2.7.3 in /usr/local/lib/python3.6/dist-packages (from pandas->pandasql) (2.8.1)\n",
            "Requirement already satisfied: pytz>=2017.2 in /usr/local/lib/python3.6/dist-packages (from pandas->pandasql) (2018.9)\n",
            "Requirement already satisfied: six>=1.5 in /usr/local/lib/python3.6/dist-packages (from python-dateutil>=2.7.3->pandas->pandasql) (1.15.0)\n"
          ],
          "name": "stdout"
        }
      ]
    },
    {
      "cell_type": "code",
      "metadata": {
        "id": "kY1TLTXGJJcJ"
      },
      "source": [
        "import pandasql as ps"
      ],
      "execution_count": 26,
      "outputs": []
    },
    {
      "cell_type": "code",
      "metadata": {
        "colab": {
          "base_uri": "https://localhost:8080/",
          "height": 819
        },
        "id": "Xh7y3DJH52g0",
        "outputId": "5e48ae50-f21f-4e9e-fda6-5cc470189581"
      },
      "source": [
        "df = pd.read_csv('commentary.csv')\r\n",
        "df.head()"
      ],
      "execution_count": 27,
      "outputs": [
        {
          "output_type": "execute_result",
          "data": {
            "text/html": [
              "<div>\n",
              "<style scoped>\n",
              "    .dataframe tbody tr th:only-of-type {\n",
              "        vertical-align: middle;\n",
              "    }\n",
              "\n",
              "    .dataframe tbody tr th {\n",
              "        vertical-align: top;\n",
              "    }\n",
              "\n",
              "    .dataframe thead th {\n",
              "        text-align: right;\n",
              "    }\n",
              "</style>\n",
              "<table border=\"1\" class=\"dataframe\">\n",
              "  <thead>\n",
              "    <tr style=\"text-align: right;\">\n",
              "      <th></th>\n",
              "      <th>over_number</th>\n",
              "      <th>comm</th>\n",
              "      <th>score</th>\n",
              "      <th>match</th>\n",
              "      <th>year</th>\n",
              "      <th>batsman_bowler</th>\n",
              "      <th>bowler</th>\n",
              "      <th>batsman</th>\n",
              "      <th>innings_no</th>\n",
              "      <th>runs</th>\n",
              "      <th>batting_team</th>\n",
              "      <th>bowling_team</th>\n",
              "      <th>result</th>\n",
              "      <th>event</th>\n",
              "    </tr>\n",
              "  </thead>\n",
              "  <tbody>\n",
              "    <tr>\n",
              "      <th>0</th>\n",
              "      <td>19.6</td>\n",
              "      <td>Chris Morris to Axar, 1 run, widish yorker out...</td>\n",
              "      <td>172.0</td>\n",
              "      <td>rsa-vs-ind-3rd-t20i-india-tour-of-south-africa...</td>\n",
              "      <td>2018</td>\n",
              "      <td>Chris Morris to Axar</td>\n",
              "      <td>Chris Morris</td>\n",
              "      <td>Axar</td>\n",
              "      <td>1</td>\n",
              "      <td>1.0</td>\n",
              "      <td>ind</td>\n",
              "      <td>rsa</td>\n",
              "      <td>1</td>\n",
              "      <td>runs</td>\n",
              "    </tr>\n",
              "    <tr>\n",
              "      <th>1</th>\n",
              "      <td>19.5</td>\n",
              "      <td>Chris Morris to Bhuvneshwar, 3 runs, full toss...</td>\n",
              "      <td>171.0</td>\n",
              "      <td>rsa-vs-ind-3rd-t20i-india-tour-of-south-africa...</td>\n",
              "      <td>2018</td>\n",
              "      <td>Chris Morris to Bhuvneshwar</td>\n",
              "      <td>Chris Morris</td>\n",
              "      <td>Bhuvneshwar</td>\n",
              "      <td>1</td>\n",
              "      <td>3.0</td>\n",
              "      <td>ind</td>\n",
              "      <td>rsa</td>\n",
              "      <td>1</td>\n",
              "      <td>runs</td>\n",
              "    </tr>\n",
              "    <tr>\n",
              "      <th>2</th>\n",
              "      <td>19.4</td>\n",
              "      <td>Chris Morris to Karthik, &lt;b&gt;out&lt;/b&gt; Lbw!! Kart...</td>\n",
              "      <td>168.0</td>\n",
              "      <td>rsa-vs-ind-3rd-t20i-india-tour-of-south-africa...</td>\n",
              "      <td>2018</td>\n",
              "      <td>Chris Morris to Karthik</td>\n",
              "      <td>Chris Morris</td>\n",
              "      <td>Karthik</td>\n",
              "      <td>1</td>\n",
              "      <td>0.0</td>\n",
              "      <td>ind</td>\n",
              "      <td>rsa</td>\n",
              "      <td>1</td>\n",
              "      <td>out</td>\n",
              "    </tr>\n",
              "    <tr>\n",
              "      <th>3</th>\n",
              "      <td>19.4</td>\n",
              "      <td>Chris Morris to Karthik, &lt;b&gt;wide&lt;/b&gt;, another ...</td>\n",
              "      <td>168.0</td>\n",
              "      <td>rsa-vs-ind-3rd-t20i-india-tour-of-south-africa...</td>\n",
              "      <td>2018</td>\n",
              "      <td>Chris Morris to Karthik</td>\n",
              "      <td>Chris Morris</td>\n",
              "      <td>Karthik</td>\n",
              "      <td>1</td>\n",
              "      <td>1.0</td>\n",
              "      <td>ind</td>\n",
              "      <td>rsa</td>\n",
              "      <td>1</td>\n",
              "      <td>runs</td>\n",
              "    </tr>\n",
              "    <tr>\n",
              "      <th>4</th>\n",
              "      <td>19.3</td>\n",
              "      <td>Chris Morris to Karthik, &lt;b&gt;FOUR&lt;/b&gt;, low full...</td>\n",
              "      <td>167.0</td>\n",
              "      <td>rsa-vs-ind-3rd-t20i-india-tour-of-south-africa...</td>\n",
              "      <td>2018</td>\n",
              "      <td>Chris Morris to Karthik</td>\n",
              "      <td>Chris Morris</td>\n",
              "      <td>Karthik</td>\n",
              "      <td>1</td>\n",
              "      <td>4.0</td>\n",
              "      <td>ind</td>\n",
              "      <td>rsa</td>\n",
              "      <td>1</td>\n",
              "      <td>runs</td>\n",
              "    </tr>\n",
              "  </tbody>\n",
              "</table>\n",
              "</div>"
            ],
            "text/plain": [
              "   over_number                                               comm  ...  result event\n",
              "0         19.6  Chris Morris to Axar, 1 run, widish yorker out...  ...       1  runs\n",
              "1         19.5  Chris Morris to Bhuvneshwar, 3 runs, full toss...  ...       1  runs\n",
              "2         19.4  Chris Morris to Karthik, <b>out</b> Lbw!! Kart...  ...       1   out\n",
              "3         19.4  Chris Morris to Karthik, <b>wide</b>, another ...  ...       1  runs\n",
              "4         19.3  Chris Morris to Karthik, <b>FOUR</b>, low full...  ...       1  runs\n",
              "\n",
              "[5 rows x 14 columns]"
            ]
          },
          "metadata": {
            "tags": []
          },
          "execution_count": 27
        }
      ]
    },
    {
      "cell_type": "markdown",
      "metadata": {
        "id": "evr1duGYX1lf"
      },
      "source": [
        "# Exploratory Data Analysis"
      ]
    },
    {
      "cell_type": "code",
      "metadata": {
        "colab": {
          "base_uri": "https://localhost:8080/"
        },
        "id": "Q-_kPZWaDiar",
        "outputId": "ef0ce179-e8b7-443e-f8e5-022e74a244d5"
      },
      "source": [
        "df.info()"
      ],
      "execution_count": 28,
      "outputs": [
        {
          "output_type": "stream",
          "text": [
            "<class 'pandas.core.frame.DataFrame'>\n",
            "RangeIndex: 6781 entries, 0 to 6780\n",
            "Data columns (total 14 columns):\n",
            " #   Column          Non-Null Count  Dtype  \n",
            "---  ------          --------------  -----  \n",
            " 0   over_number     6781 non-null   float64\n",
            " 1   comm            6781 non-null   object \n",
            " 2   score           6781 non-null   float64\n",
            " 3   match           6781 non-null   object \n",
            " 4   year            6781 non-null   int64  \n",
            " 5   batsman_bowler  6781 non-null   object \n",
            " 6   bowler          6781 non-null   object \n",
            " 7   batsman         6781 non-null   object \n",
            " 8   innings_no      6781 non-null   int64  \n",
            " 9   runs            6781 non-null   float64\n",
            " 10  batting_team    6781 non-null   object \n",
            " 11  bowling_team    6781 non-null   object \n",
            " 12  result          6781 non-null   int64  \n",
            " 13  event           6781 non-null   object \n",
            "dtypes: float64(3), int64(3), object(8)\n",
            "memory usage: 741.8+ KB\n"
          ],
          "name": "stdout"
        }
      ]
    },
    {
      "cell_type": "code",
      "metadata": {
        "colab": {
          "base_uri": "https://localhost:8080/",
          "height": 297
        },
        "id": "UqmIWs3yFhdE",
        "outputId": "5b9ff02b-8f4b-4538-949f-4d597ab653d2"
      },
      "source": [
        "df.describe()"
      ],
      "execution_count": 29,
      "outputs": [
        {
          "output_type": "execute_result",
          "data": {
            "text/html": [
              "<div>\n",
              "<style scoped>\n",
              "    .dataframe tbody tr th:only-of-type {\n",
              "        vertical-align: middle;\n",
              "    }\n",
              "\n",
              "    .dataframe tbody tr th {\n",
              "        vertical-align: top;\n",
              "    }\n",
              "\n",
              "    .dataframe thead th {\n",
              "        text-align: right;\n",
              "    }\n",
              "</style>\n",
              "<table border=\"1\" class=\"dataframe\">\n",
              "  <thead>\n",
              "    <tr style=\"text-align: right;\">\n",
              "      <th></th>\n",
              "      <th>over_number</th>\n",
              "      <th>score</th>\n",
              "      <th>year</th>\n",
              "      <th>innings_no</th>\n",
              "      <th>runs</th>\n",
              "      <th>result</th>\n",
              "    </tr>\n",
              "  </thead>\n",
              "  <tbody>\n",
              "    <tr>\n",
              "      <th>count</th>\n",
              "      <td>6781.000000</td>\n",
              "      <td>6781.000000</td>\n",
              "      <td>6781.000000</td>\n",
              "      <td>6781.000000</td>\n",
              "      <td>6781.000000</td>\n",
              "      <td>6781.000000</td>\n",
              "    </tr>\n",
              "    <tr>\n",
              "      <th>mean</th>\n",
              "      <td>9.630748</td>\n",
              "      <td>79.846778</td>\n",
              "      <td>2018.431057</td>\n",
              "      <td>1.482672</td>\n",
              "      <td>1.366760</td>\n",
              "      <td>1.676154</td>\n",
              "    </tr>\n",
              "    <tr>\n",
              "      <th>std</th>\n",
              "      <td>5.668288</td>\n",
              "      <td>51.248685</td>\n",
              "      <td>0.495261</td>\n",
              "      <td>0.499737</td>\n",
              "      <td>1.715317</td>\n",
              "      <td>0.467977</td>\n",
              "    </tr>\n",
              "    <tr>\n",
              "      <th>min</th>\n",
              "      <td>0.100000</td>\n",
              "      <td>0.000000</td>\n",
              "      <td>2018.000000</td>\n",
              "      <td>1.000000</td>\n",
              "      <td>0.000000</td>\n",
              "      <td>1.000000</td>\n",
              "    </tr>\n",
              "    <tr>\n",
              "      <th>25%</th>\n",
              "      <td>4.600000</td>\n",
              "      <td>37.000000</td>\n",
              "      <td>2018.000000</td>\n",
              "      <td>1.000000</td>\n",
              "      <td>0.000000</td>\n",
              "      <td>1.000000</td>\n",
              "    </tr>\n",
              "    <tr>\n",
              "      <th>50%</th>\n",
              "      <td>9.500000</td>\n",
              "      <td>76.000000</td>\n",
              "      <td>2018.000000</td>\n",
              "      <td>1.000000</td>\n",
              "      <td>1.000000</td>\n",
              "      <td>2.000000</td>\n",
              "    </tr>\n",
              "    <tr>\n",
              "      <th>75%</th>\n",
              "      <td>14.400000</td>\n",
              "      <td>118.000000</td>\n",
              "      <td>2019.000000</td>\n",
              "      <td>2.000000</td>\n",
              "      <td>1.000000</td>\n",
              "      <td>2.000000</td>\n",
              "    </tr>\n",
              "    <tr>\n",
              "      <th>max</th>\n",
              "      <td>19.600000</td>\n",
              "      <td>240.000000</td>\n",
              "      <td>2019.000000</td>\n",
              "      <td>2.000000</td>\n",
              "      <td>28.000000</td>\n",
              "      <td>2.000000</td>\n",
              "    </tr>\n",
              "  </tbody>\n",
              "</table>\n",
              "</div>"
            ],
            "text/plain": [
              "       over_number        score  ...         runs       result\n",
              "count  6781.000000  6781.000000  ...  6781.000000  6781.000000\n",
              "mean      9.630748    79.846778  ...     1.366760     1.676154\n",
              "std       5.668288    51.248685  ...     1.715317     0.467977\n",
              "min       0.100000     0.000000  ...     0.000000     1.000000\n",
              "25%       4.600000    37.000000  ...     0.000000     1.000000\n",
              "50%       9.500000    76.000000  ...     1.000000     2.000000\n",
              "75%      14.400000   118.000000  ...     1.000000     2.000000\n",
              "max      19.600000   240.000000  ...    28.000000     2.000000\n",
              "\n",
              "[8 rows x 6 columns]"
            ]
          },
          "metadata": {
            "tags": []
          },
          "execution_count": 29
        }
      ]
    },
    {
      "cell_type": "code",
      "metadata": {
        "colab": {
          "base_uri": "https://localhost:8080/"
        },
        "id": "8kQyM4kJD1GJ",
        "outputId": "bb8fde8d-6a23-48f2-c463-fa92091905ec"
      },
      "source": [
        "df.isnull().sum()"
      ],
      "execution_count": 30,
      "outputs": [
        {
          "output_type": "execute_result",
          "data": {
            "text/plain": [
              "over_number       0\n",
              "comm              0\n",
              "score             0\n",
              "match             0\n",
              "year              0\n",
              "batsman_bowler    0\n",
              "bowler            0\n",
              "batsman           0\n",
              "innings_no        0\n",
              "runs              0\n",
              "batting_team      0\n",
              "bowling_team      0\n",
              "result            0\n",
              "event             0\n",
              "dtype: int64"
            ]
          },
          "metadata": {
            "tags": []
          },
          "execution_count": 30
        }
      ]
    },
    {
      "cell_type": "code",
      "metadata": {
        "colab": {
          "base_uri": "https://localhost:8080/"
        },
        "id": "KzYIEtz9CjAz",
        "outputId": "11fbe735-b42c-4b42-b237-4f6db3a4f1fa"
      },
      "source": [
        "batting_df = df[df['batting_team']== 'ind']\r\n",
        "num = len(batting_df['match'].unique())\r\n",
        "print(\"Total no. of matches India played:\",num)"
      ],
      "execution_count": 31,
      "outputs": [
        {
          "output_type": "stream",
          "text": [
            "Total no. of matches India played: 28\n"
          ],
          "name": "stdout"
        }
      ]
    },
    {
      "cell_type": "code",
      "metadata": {
        "id": "wVFHa8IBDQsE",
        "colab": {
          "base_uri": "https://localhost:8080/",
          "height": 977
        },
        "outputId": "f9105e55-1bf4-4f6c-99c3-11336927c895"
      },
      "source": [
        "sns.pairplot(df)"
      ],
      "execution_count": 32,
      "outputs": [
        {
          "output_type": "execute_result",
          "data": {
            "text/plain": [
              "<seaborn.axisgrid.PairGrid at 0x7f5dc42e5f60>"
            ]
          },
          "metadata": {
            "tags": []
          },
          "execution_count": 32
        },
        {
          "output_type": "display_data",
          "data": {
            "image/png": "[encoded data removed]",
            "text/plain": [
              "<Figure size 1080x1080 with 42 Axes>"
            ]
          },
          "metadata": {
            "tags": [],
            "needs_background": "light"
          }
        }
      ]
    },
    {
      "cell_type": "code",
      "metadata": {
        "colab": {
          "base_uri": "https://localhost:8080/",
          "height": 513
        },
        "id": "cJNOovfrF6cv",
        "outputId": "f409b2ac-2519-4156-f9a5-92effa5d72bb"
      },
      "source": [
        "num_of_matches=batting_df.groupby(['year']).apply(lambda x:x['match'].nunique()).reset_index(name='No. of Matches')\r\n",
        "fig = num_of_matches.plot.bar(x=\"year\", y=\"No. of Matches\", rot=0, title=\"No. of T20s India Played\",figsize=(10,8)).get_figure()"
      ],
      "execution_count": 33,
      "outputs": [
        {
          "output_type": "display_data",
          "data": {
            "image/png": "[encoded data removed]",
            "text/plain": [
              "<Figure size 720x576 with 1 Axes>"
            ]
          },
          "metadata": {
            "tags": [],
            "needs_background": "light"
          }
        }
      ]
    },
    {
      "cell_type": "code",
      "metadata": {
        "colab": {
          "base_uri": "https://localhost:8080/"
        },
        "id": "sZGrm2VOJhZn",
        "outputId": "9358fa87-586e-4775-92d1-9916eeadef2f"
      },
      "source": [
        "score = batting_df.groupby(['year','match','innings_no']).apply(lambda x:x['runs'].sum()).reset_index(name='score')\r\n",
        "print(\"India's average when they bat first:\",np.median(score[score['innings_no']==1]['score'].values))\r\n",
        "print(\"India's average when they bowl first:\",np.median(score[score['innings_no']==2]['score'].values))"
      ],
      "execution_count": 34,
      "outputs": [
        {
          "output_type": "stream",
          "text": [
            "India's average when they bat first: 183.0\n",
            "India's average when they bowl first: 157.5\n"
          ],
          "name": "stdout"
        }
      ]
    },
    {
      "cell_type": "code",
      "metadata": {
        "id": "Zn2ayOt0Jm6P",
        "outputId": "da163d33-a92d-48ff-85f7-0a4b5d0c5b57",
        "colab": {
          "base_uri": "https://localhost:8080/",
          "height": 499
        }
      },
      "source": [
        "  first_innings_df=score[score['innings_no']==1]\r\n",
        "  second_innings_df=score[score['innings_no']==2]\r\n",
        "\r\n",
        "  df1 = first_innings_df.groupby('year').apply(lambda x:np.median(x['score'].values)).reset_index(name = 'score')\r\n",
        "  df2 = second_innings_df.groupby('year').apply(lambda x: np.median(x['score'].values)).reset_index(name = 'score')\r\n",
        "\r\n",
        "  data = {\"Batting First\": df1['score'].values,\r\n",
        "          \"Batting Second\":df2['score'].values\r\n",
        "         }\r\n",
        "  index = df1['year'].values\r\n",
        "\r\n",
        "  new_dataframe = pd.DataFrame(data=data, index = index)\r\n",
        "\r\n",
        "  fig = new_dataframe.plot.bar(rot = 0, title = 'Team Average', figsize = (10, 8)).get_figure()"
      ],
      "execution_count": 35,
      "outputs": [
        {
          "output_type": "display_data",
          "data": {
            "image/png": "[encoded data removed]",
            "text/plain": [
              "<Figure size 720x576 with 1 Axes>"
            ]
          },
          "metadata": {
            "tags": [],
            "needs_background": "light"
          }
        }
      ]
    },
    {
      "cell_type": "code",
      "metadata": {
        "id": "yhROh2TKOtOJ"
      },
      "source": [
        "#after we do group by the column sets as index and to reset back it into columns we use rest_index().\r\n",
        "grp = batting_df.groupby('match').first().reset_index() #Pandas dataframe.groupby() function is used to split the data \r\n",
        "                                                        #into groups based on some criteria.\r\n"
      ],
      "execution_count": 36,
      "outputs": []
    },
    {
      "cell_type": "code",
      "metadata": {
        "id": "_HXArKykuysk",
        "outputId": "f94a1db5-9cc1-452b-c321-701f6674f970",
        "colab": {
          "base_uri": "https://localhost:8080/",
          "height": 1000
        }
      },
      "source": [
        "grp"
      ],
      "execution_count": 37,
      "outputs": [
        {
          "output_type": "execute_result",
          "data": {
            "text/html": [
              "<div>\n",
              "<style scoped>\n",
              "    .dataframe tbody tr th:only-of-type {\n",
              "        vertical-align: middle;\n",
              "    }\n",
              "\n",
              "    .dataframe tbody tr th {\n",
              "        vertical-align: top;\n",
              "    }\n",
              "\n",
              "    .dataframe thead th {\n",
              "        text-align: right;\n",
              "    }\n",
              "</style>\n",
              "<table border=\"1\" class=\"dataframe\">\n",
              "  <thead>\n",
              "    <tr style=\"text-align: right;\">\n",
              "      <th></th>\n",
              "      <th>match</th>\n",
              "      <th>over_number</th>\n",
              "      <th>comm</th>\n",
              "      <th>score</th>\n",
              "      <th>year</th>\n",
              "      <th>batsman_bowler</th>\n",
              "      <th>bowler</th>\n",
              "      <th>batsman</th>\n",
              "      <th>innings_no</th>\n",
              "      <th>runs</th>\n",
              "      <th>batting_team</th>\n",
              "      <th>bowling_team</th>\n",
              "      <th>result</th>\n",
              "      <th>event</th>\n",
              "    </tr>\n",
              "  </thead>\n",
              "  <tbody>\n",
              "    <tr>\n",
              "      <th>0</th>\n",
              "      <td>ban-vs-ind-2nd-match-india-and-bangladesh-in-s...</td>\n",
              "      <td>18.4</td>\n",
              "      <td>Rubel to Manish Pandey, 1 run, diving half-sto...</td>\n",
              "      <td>140.0</td>\n",
              "      <td>2018</td>\n",
              "      <td>Rubel to Manish Pandey</td>\n",
              "      <td>Rubel</td>\n",
              "      <td>Manish Pandey</td>\n",
              "      <td>2</td>\n",
              "      <td>1.0</td>\n",
              "      <td>ind</td>\n",
              "      <td>ban</td>\n",
              "      <td>2</td>\n",
              "      <td>runs</td>\n",
              "    </tr>\n",
              "    <tr>\n",
              "      <th>1</th>\n",
              "      <td>ban-vs-ind-5th-match-india-and-bangladesh-in-s...</td>\n",
              "      <td>19.6</td>\n",
              "      <td>Rubel to Rohit, &lt;b&gt;out&lt;/b&gt; Rohit Run Out!! Exc...</td>\n",
              "      <td>176.0</td>\n",
              "      <td>2018</td>\n",
              "      <td>Rubel to Rohit</td>\n",
              "      <td>Rubel</td>\n",
              "      <td>Rohit</td>\n",
              "      <td>1</td>\n",
              "      <td>0.0</td>\n",
              "      <td>ind</td>\n",
              "      <td>ban</td>\n",
              "      <td>1</td>\n",
              "      <td>out</td>\n",
              "    </tr>\n",
              "    <tr>\n",
              "      <th>2</th>\n",
              "      <td>eng-vs-ind-1st-t20i-india-tour-of-england-2018</td>\n",
              "      <td>18.2</td>\n",
              "      <td>Moeen Ali to Kohli, &lt;b&gt;SIX&lt;/b&gt;, seals in style...</td>\n",
              "      <td>163.0</td>\n",
              "      <td>2018</td>\n",
              "      <td>Moeen Ali to Kohli</td>\n",
              "      <td>Moeen Ali</td>\n",
              "      <td>Kohli</td>\n",
              "      <td>2</td>\n",
              "      <td>6.0</td>\n",
              "      <td>ind</td>\n",
              "      <td>eng</td>\n",
              "      <td>2</td>\n",
              "      <td>runs</td>\n",
              "    </tr>\n",
              "    <tr>\n",
              "      <th>3</th>\n",
              "      <td>eng-vs-ind-2nd-t20i-india-tour-of-england-2018</td>\n",
              "      <td>19.6</td>\n",
              "      <td>J Ball to Dhoni, &lt;b&gt;FOUR&lt;/b&gt;, and he finishes ...</td>\n",
              "      <td>148.0</td>\n",
              "      <td>2018</td>\n",
              "      <td>J Ball to Dhoni</td>\n",
              "      <td>J Ball</td>\n",
              "      <td>Dhoni</td>\n",
              "      <td>1</td>\n",
              "      <td>4.0</td>\n",
              "      <td>ind</td>\n",
              "      <td>eng</td>\n",
              "      <td>2</td>\n",
              "      <td>runs</td>\n",
              "    </tr>\n",
              "    <tr>\n",
              "      <th>4</th>\n",
              "      <td>eng-vs-ind-3rd-t20i-india-tour-of-england-2018</td>\n",
              "      <td>18.4</td>\n",
              "      <td>Jordan to Hardik Pandya, &lt;b&gt;SIX&lt;/b&gt;, &lt;b&gt;Hardik...</td>\n",
              "      <td>201.0</td>\n",
              "      <td>2018</td>\n",
              "      <td>Jordan to Hardik Pandya</td>\n",
              "      <td>Jordan</td>\n",
              "      <td>Hardik Pandya</td>\n",
              "      <td>2</td>\n",
              "      <td>6.0</td>\n",
              "      <td>ind</td>\n",
              "      <td>eng</td>\n",
              "      <td>2</td>\n",
              "      <td>runs</td>\n",
              "    </tr>\n",
              "    <tr>\n",
              "      <th>5</th>\n",
              "      <td>ind-vs-aus-1st-t20i-australia-tour-of-india-2019</td>\n",
              "      <td>19.6</td>\n",
              "      <td>Coulter-Nile to Dhoni, leg byes, 1 run, back o...</td>\n",
              "      <td>126.0</td>\n",
              "      <td>2019</td>\n",
              "      <td>Coulter-Nile to Dhoni</td>\n",
              "      <td>Coulter-Nile</td>\n",
              "      <td>Dhoni</td>\n",
              "      <td>1</td>\n",
              "      <td>1.0</td>\n",
              "      <td>ind</td>\n",
              "      <td>aus</td>\n",
              "      <td>2</td>\n",
              "      <td>runs</td>\n",
              "    </tr>\n",
              "    <tr>\n",
              "      <th>6</th>\n",
              "      <td>ind-vs-aus-2nd-t20i-australia-tour-of-india-2019</td>\n",
              "      <td>19.6</td>\n",
              "      <td>Pat Cummins to Kohli, &lt;b&gt;SIX&lt;/b&gt;, &lt;b&gt;whatta wa...</td>\n",
              "      <td>190.0</td>\n",
              "      <td>2019</td>\n",
              "      <td>Pat Cummins to Kohli</td>\n",
              "      <td>Pat Cummins</td>\n",
              "      <td>Kohli</td>\n",
              "      <td>1</td>\n",
              "      <td>6.0</td>\n",
              "      <td>ind</td>\n",
              "      <td>aus</td>\n",
              "      <td>2</td>\n",
              "      <td>runs</td>\n",
              "    </tr>\n",
              "    <tr>\n",
              "      <th>7</th>\n",
              "      <td>ind-vs-ban-final-india-and-bangladesh-in-sri-l...</td>\n",
              "      <td>19.6</td>\n",
              "      <td>Soumya Sarkar to Karthik, &lt;b&gt;SIX&lt;/b&gt;, &lt;b&gt;DK! H...</td>\n",
              "      <td>168.0</td>\n",
              "      <td>2018</td>\n",
              "      <td>Soumya Sarkar to Karthik</td>\n",
              "      <td>Soumya Sarkar</td>\n",
              "      <td>Karthik</td>\n",
              "      <td>2</td>\n",
              "      <td>6.0</td>\n",
              "      <td>ind</td>\n",
              "      <td>ban</td>\n",
              "      <td>2</td>\n",
              "      <td>runs</td>\n",
              "    </tr>\n",
              "    <tr>\n",
              "      <th>8</th>\n",
              "      <td>ind-vs-rsa-2nd-t20i-south-africa-tour-of-india...</td>\n",
              "      <td>18.6</td>\n",
              "      <td>Fortuin to Shreyas Iyer, &lt;b&gt;FOUR&lt;/b&gt;, full and...</td>\n",
              "      <td>151.0</td>\n",
              "      <td>2019</td>\n",
              "      <td>Fortuin to Shreyas Iyer</td>\n",
              "      <td>Fortuin</td>\n",
              "      <td>Shreyas Iyer</td>\n",
              "      <td>2</td>\n",
              "      <td>4.0</td>\n",
              "      <td>ind</td>\n",
              "      <td>rsa</td>\n",
              "      <td>2</td>\n",
              "      <td>runs</td>\n",
              "    </tr>\n",
              "    <tr>\n",
              "      <th>9</th>\n",
              "      <td>ind-vs-rsa-3rd-t20i-south-africa-tour-of-india...</td>\n",
              "      <td>19.6</td>\n",
              "      <td>Rabada to Navdeep Saini, byes, 1 run, back of ...</td>\n",
              "      <td>134.0</td>\n",
              "      <td>2019</td>\n",
              "      <td>Rabada to Navdeep Saini</td>\n",
              "      <td>Rabada</td>\n",
              "      <td>Navdeep Saini</td>\n",
              "      <td>1</td>\n",
              "      <td>1.0</td>\n",
              "      <td>ind</td>\n",
              "      <td>rsa</td>\n",
              "      <td>2</td>\n",
              "      <td>runs</td>\n",
              "    </tr>\n",
              "    <tr>\n",
              "      <th>10</th>\n",
              "      <td>ind-vs-wi-1st-t20i-west-indies-tour-of-india-2019</td>\n",
              "      <td>18.4</td>\n",
              "      <td>Kesrick Williams to Kohli, &lt;b&gt;SIX&lt;/b&gt;, &lt;b&gt;and ...</td>\n",
              "      <td>209.0</td>\n",
              "      <td>2019</td>\n",
              "      <td>Kesrick Williams to Kohli</td>\n",
              "      <td>Kesrick Williams</td>\n",
              "      <td>Kohli</td>\n",
              "      <td>2</td>\n",
              "      <td>6.0</td>\n",
              "      <td>ind</td>\n",
              "      <td>wi</td>\n",
              "      <td>2</td>\n",
              "      <td>runs</td>\n",
              "    </tr>\n",
              "    <tr>\n",
              "      <th>11</th>\n",
              "      <td>ind-vs-wi-1st-t20i-windies-tour-of-india-2018</td>\n",
              "      <td>17.5</td>\n",
              "      <td>K Paul to Krunal Pandya, 2 runs, full outside ...</td>\n",
              "      <td>110.0</td>\n",
              "      <td>2018</td>\n",
              "      <td>K Paul to Krunal Pandya</td>\n",
              "      <td>K Paul</td>\n",
              "      <td>Krunal Pandya</td>\n",
              "      <td>2</td>\n",
              "      <td>2.0</td>\n",
              "      <td>ind</td>\n",
              "      <td>wi</td>\n",
              "      <td>2</td>\n",
              "      <td>runs</td>\n",
              "    </tr>\n",
              "    <tr>\n",
              "      <th>12</th>\n",
              "      <td>ind-vs-wi-2nd-t20i-west-indies-tour-of-india-2019</td>\n",
              "      <td>19.6</td>\n",
              "      <td>Cottrell to Pant, 2 runs, &lt;b&gt;India finish with...</td>\n",
              "      <td>170.0</td>\n",
              "      <td>2019</td>\n",
              "      <td>Cottrell to Pant</td>\n",
              "      <td>Cottrell</td>\n",
              "      <td>Pant</td>\n",
              "      <td>1</td>\n",
              "      <td>2.0</td>\n",
              "      <td>ind</td>\n",
              "      <td>wi</td>\n",
              "      <td>2</td>\n",
              "      <td>runs</td>\n",
              "    </tr>\n",
              "    <tr>\n",
              "      <th>13</th>\n",
              "      <td>ind-vs-wi-2nd-t20i-windies-tour-of-india-2018</td>\n",
              "      <td>19.6</td>\n",
              "      <td>Brathwaite to Rohit, 1 run, and finally Brathw...</td>\n",
              "      <td>195.0</td>\n",
              "      <td>2018</td>\n",
              "      <td>Brathwaite to Rohit</td>\n",
              "      <td>Brathwaite</td>\n",
              "      <td>Rohit</td>\n",
              "      <td>1</td>\n",
              "      <td>1.0</td>\n",
              "      <td>ind</td>\n",
              "      <td>wi</td>\n",
              "      <td>1</td>\n",
              "      <td>runs</td>\n",
              "    </tr>\n",
              "    <tr>\n",
              "      <th>14</th>\n",
              "      <td>ind-vs-wi-3rd-t20i-west-indies-tour-of-india-2019</td>\n",
              "      <td>19.6</td>\n",
              "      <td>Cottrell to Kohli, &lt;b&gt;SIX&lt;/b&gt;, &lt;b&gt;Kohli finish...</td>\n",
              "      <td>240.0</td>\n",
              "      <td>2019</td>\n",
              "      <td>Cottrell to Kohli</td>\n",
              "      <td>Cottrell</td>\n",
              "      <td>Kohli</td>\n",
              "      <td>1</td>\n",
              "      <td>6.0</td>\n",
              "      <td>ind</td>\n",
              "      <td>wi</td>\n",
              "      <td>1</td>\n",
              "      <td>runs</td>\n",
              "    </tr>\n",
              "    <tr>\n",
              "      <th>15</th>\n",
              "      <td>ind-vs-wi-3rd-t20i-windies-tour-of-india-2018</td>\n",
              "      <td>19.6</td>\n",
              "      <td>Fabian Allen to Manish Pandey, 1 run, India ma...</td>\n",
              "      <td>182.0</td>\n",
              "      <td>2018</td>\n",
              "      <td>Fabian Allen to Manish Pandey</td>\n",
              "      <td>Fabian Allen</td>\n",
              "      <td>Manish Pandey</td>\n",
              "      <td>2</td>\n",
              "      <td>1.0</td>\n",
              "      <td>ind</td>\n",
              "      <td>wi</td>\n",
              "      <td>2</td>\n",
              "      <td>runs</td>\n",
              "    </tr>\n",
              "    <tr>\n",
              "      <th>16</th>\n",
              "      <td>ire-vs-ind-1st-t20i-india-tour-of-ireland-2018</td>\n",
              "      <td>19.6</td>\n",
              "      <td>Chase to Hardik Pandya, &lt;b&gt;SIX&lt;/b&gt;, what if MS...</td>\n",
              "      <td>208.0</td>\n",
              "      <td>2018</td>\n",
              "      <td>Chase to Hardik Pandya</td>\n",
              "      <td>Chase</td>\n",
              "      <td>Hardik Pandya</td>\n",
              "      <td>1</td>\n",
              "      <td>6.0</td>\n",
              "      <td>ind</td>\n",
              "      <td>ire</td>\n",
              "      <td>1</td>\n",
              "      <td>runs</td>\n",
              "    </tr>\n",
              "    <tr>\n",
              "      <th>17</th>\n",
              "      <td>ire-vs-ind-2nd-t20i-india-tour-of-ireland-2018</td>\n",
              "      <td>19.6</td>\n",
              "      <td>Kevin O Brien to Hardik Pandya, 1 run, fuller ...</td>\n",
              "      <td>213.0</td>\n",
              "      <td>2018</td>\n",
              "      <td>Kevin O Brien to Hardik Pandya</td>\n",
              "      <td>Kevin O Brien</td>\n",
              "      <td>Hardik Pandya</td>\n",
              "      <td>1</td>\n",
              "      <td>1.0</td>\n",
              "      <td>ind</td>\n",
              "      <td>ire</td>\n",
              "      <td>1</td>\n",
              "      <td>runs</td>\n",
              "    </tr>\n",
              "    <tr>\n",
              "      <th>18</th>\n",
              "      <td>nz-vs-ind-1st-t20i-india-tour-of-new-zealand-2019</td>\n",
              "      <td>19.2</td>\n",
              "      <td>Daryl Mitchell to Chahal, &lt;b&gt;out&lt;/b&gt; Bowled!! ...</td>\n",
              "      <td>139.0</td>\n",
              "      <td>2019</td>\n",
              "      <td>Daryl Mitchell to Chahal</td>\n",
              "      <td>Daryl Mitchell</td>\n",
              "      <td>Chahal</td>\n",
              "      <td>2</td>\n",
              "      <td>0.0</td>\n",
              "      <td>ind</td>\n",
              "      <td>nz</td>\n",
              "      <td>1</td>\n",
              "      <td>out</td>\n",
              "    </tr>\n",
              "    <tr>\n",
              "      <th>19</th>\n",
              "      <td>nz-vs-ind-2nd-t20i-india-tour-of-new-zealand-2019</td>\n",
              "      <td>18.5</td>\n",
              "      <td>Kuggeleijn to Pant, &lt;b&gt;FOUR&lt;/b&gt;, India win the...</td>\n",
              "      <td>162.0</td>\n",
              "      <td>2019</td>\n",
              "      <td>Kuggeleijn to Pant</td>\n",
              "      <td>Kuggeleijn</td>\n",
              "      <td>Pant</td>\n",
              "      <td>2</td>\n",
              "      <td>4.0</td>\n",
              "      <td>ind</td>\n",
              "      <td>nz</td>\n",
              "      <td>2</td>\n",
              "      <td>runs</td>\n",
              "    </tr>\n",
              "    <tr>\n",
              "      <th>20</th>\n",
              "      <td>nz-vs-ind-3rd-t20i-india-tour-of-new-zealand-2019</td>\n",
              "      <td>19.6</td>\n",
              "      <td>Southee to Karthik, &lt;b&gt;SIX&lt;/b&gt;, &lt;b&gt;New Zealand...</td>\n",
              "      <td>208.0</td>\n",
              "      <td>2019</td>\n",
              "      <td>Southee to Karthik</td>\n",
              "      <td>Southee</td>\n",
              "      <td>Karthik</td>\n",
              "      <td>2</td>\n",
              "      <td>6.0</td>\n",
              "      <td>ind</td>\n",
              "      <td>nz</td>\n",
              "      <td>1</td>\n",
              "      <td>runs</td>\n",
              "    </tr>\n",
              "    <tr>\n",
              "      <th>21</th>\n",
              "      <td>rsa-vs-ind-1st-t20i-india-tour-of-south-africa...</td>\n",
              "      <td>19.6</td>\n",
              "      <td>Paterson to Hardik Pandya, 1 run, great contro...</td>\n",
              "      <td>203.0</td>\n",
              "      <td>2018</td>\n",
              "      <td>Paterson to Hardik Pandya</td>\n",
              "      <td>Paterson</td>\n",
              "      <td>Hardik Pandya</td>\n",
              "      <td>1</td>\n",
              "      <td>1.0</td>\n",
              "      <td>ind</td>\n",
              "      <td>rsa</td>\n",
              "      <td>1</td>\n",
              "      <td>runs</td>\n",
              "    </tr>\n",
              "    <tr>\n",
              "      <th>22</th>\n",
              "      <td>rsa-vs-ind-2nd-t20i-india-tour-of-south-africa...</td>\n",
              "      <td>19.6</td>\n",
              "      <td>Paterson to Dhoni, 1 run, that seemed to be cl...</td>\n",
              "      <td>188.0</td>\n",
              "      <td>2018</td>\n",
              "      <td>Paterson to Dhoni</td>\n",
              "      <td>Paterson</td>\n",
              "      <td>Dhoni</td>\n",
              "      <td>1</td>\n",
              "      <td>1.0</td>\n",
              "      <td>ind</td>\n",
              "      <td>rsa</td>\n",
              "      <td>2</td>\n",
              "      <td>runs</td>\n",
              "    </tr>\n",
              "    <tr>\n",
              "      <th>23</th>\n",
              "      <td>rsa-vs-ind-3rd-t20i-india-tour-of-south-africa...</td>\n",
              "      <td>19.6</td>\n",
              "      <td>Chris Morris to Axar, 1 run, widish yorker out...</td>\n",
              "      <td>172.0</td>\n",
              "      <td>2018</td>\n",
              "      <td>Chris Morris to Axar</td>\n",
              "      <td>Chris Morris</td>\n",
              "      <td>Axar</td>\n",
              "      <td>1</td>\n",
              "      <td>1.0</td>\n",
              "      <td>ind</td>\n",
              "      <td>rsa</td>\n",
              "      <td>1</td>\n",
              "      <td>runs</td>\n",
              "    </tr>\n",
              "    <tr>\n",
              "      <th>24</th>\n",
              "      <td>sl-vs-ind-1st-match-india-and-bangladesh-in-sr...</td>\n",
              "      <td>19.6</td>\n",
              "      <td>Chameera to Pant, &lt;b&gt;out&lt;/b&gt; Caught by Pradeep...</td>\n",
              "      <td>174.0</td>\n",
              "      <td>2018</td>\n",
              "      <td>Chameera to Pant</td>\n",
              "      <td>Chameera</td>\n",
              "      <td>Pant</td>\n",
              "      <td>1</td>\n",
              "      <td>0.0</td>\n",
              "      <td>ind</td>\n",
              "      <td>sl</td>\n",
              "      <td>2</td>\n",
              "      <td>out</td>\n",
              "    </tr>\n",
              "    <tr>\n",
              "      <th>25</th>\n",
              "      <td>sl-vs-ind-4th-match-india-and-bangladesh-in-sr...</td>\n",
              "      <td>17.3</td>\n",
              "      <td>Pradeep to Karthik, 1 run, yorker length deliv...</td>\n",
              "      <td>153.0</td>\n",
              "      <td>2018</td>\n",
              "      <td>Pradeep to Karthik</td>\n",
              "      <td>Pradeep</td>\n",
              "      <td>Karthik</td>\n",
              "      <td>2</td>\n",
              "      <td>1.0</td>\n",
              "      <td>ind</td>\n",
              "      <td>sl</td>\n",
              "      <td>2</td>\n",
              "      <td>runs</td>\n",
              "    </tr>\n",
              "    <tr>\n",
              "      <th>26</th>\n",
              "      <td>wi-vs-ind-1st-t20i-india-tour-of-west-indies-2019</td>\n",
              "      <td>17.2</td>\n",
              "      <td>K Paul to Washington Sundar, &lt;b&gt;SIX&lt;/b&gt;, a gre...</td>\n",
              "      <td>98.0</td>\n",
              "      <td>2019</td>\n",
              "      <td>K Paul to Washington Sundar</td>\n",
              "      <td>K Paul</td>\n",
              "      <td>Washing</td>\n",
              "      <td>2</td>\n",
              "      <td>6.0</td>\n",
              "      <td>ind</td>\n",
              "      <td>wi</td>\n",
              "      <td>2</td>\n",
              "      <td>runs</td>\n",
              "    </tr>\n",
              "    <tr>\n",
              "      <th>27</th>\n",
              "      <td>wi-vs-ind-3rd-t20i-india-tour-of-west-indies-2019</td>\n",
              "      <td>19.1</td>\n",
              "      <td>Brathwaite to Pant, &lt;b&gt;SIX&lt;/b&gt;, Pant wraps it ...</td>\n",
              "      <td>150.0</td>\n",
              "      <td>2019</td>\n",
              "      <td>Brathwaite to Pant</td>\n",
              "      <td>Brathwaite</td>\n",
              "      <td>Pant</td>\n",
              "      <td>2</td>\n",
              "      <td>6.0</td>\n",
              "      <td>ind</td>\n",
              "      <td>wi</td>\n",
              "      <td>2</td>\n",
              "      <td>runs</td>\n",
              "    </tr>\n",
              "  </tbody>\n",
              "</table>\n",
              "</div>"
            ],
            "text/plain": [
              "                                                match  ...  event\n",
              "0   ban-vs-ind-2nd-match-india-and-bangladesh-in-s...  ...   runs\n",
              "1   ban-vs-ind-5th-match-india-and-bangladesh-in-s...  ...    out\n",
              "2      eng-vs-ind-1st-t20i-india-tour-of-england-2018  ...   runs\n",
              "3      eng-vs-ind-2nd-t20i-india-tour-of-england-2018  ...   runs\n",
              "4      eng-vs-ind-3rd-t20i-india-tour-of-england-2018  ...   runs\n",
              "5    ind-vs-aus-1st-t20i-australia-tour-of-india-2019  ...   runs\n",
              "6    ind-vs-aus-2nd-t20i-australia-tour-of-india-2019  ...   runs\n",
              "7   ind-vs-ban-final-india-and-bangladesh-in-sri-l...  ...   runs\n",
              "8   ind-vs-rsa-2nd-t20i-south-africa-tour-of-india...  ...   runs\n",
              "9   ind-vs-rsa-3rd-t20i-south-africa-tour-of-india...  ...   runs\n",
              "10  ind-vs-wi-1st-t20i-west-indies-tour-of-india-2019  ...   runs\n",
              "11      ind-vs-wi-1st-t20i-windies-tour-of-india-2018  ...   runs\n",
              "12  ind-vs-wi-2nd-t20i-west-indies-tour-of-india-2019  ...   runs\n",
              "13      ind-vs-wi-2nd-t20i-windies-tour-of-india-2018  ...   runs\n",
              "14  ind-vs-wi-3rd-t20i-west-indies-tour-of-india-2019  ...   runs\n",
              "15      ind-vs-wi-3rd-t20i-windies-tour-of-india-2018  ...   runs\n",
              "16     ire-vs-ind-1st-t20i-india-tour-of-ireland-2018  ...   runs\n",
              "17     ire-vs-ind-2nd-t20i-india-tour-of-ireland-2018  ...   runs\n",
              "18  nz-vs-ind-1st-t20i-india-tour-of-new-zealand-2019  ...    out\n",
              "19  nz-vs-ind-2nd-t20i-india-tour-of-new-zealand-2019  ...   runs\n",
              "20  nz-vs-ind-3rd-t20i-india-tour-of-new-zealand-2019  ...   runs\n",
              "21  rsa-vs-ind-1st-t20i-india-tour-of-south-africa...  ...   runs\n",
              "22  rsa-vs-ind-2nd-t20i-india-tour-of-south-africa...  ...   runs\n",
              "23  rsa-vs-ind-3rd-t20i-india-tour-of-south-africa...  ...   runs\n",
              "24  sl-vs-ind-1st-match-india-and-bangladesh-in-sr...  ...    out\n",
              "25  sl-vs-ind-4th-match-india-and-bangladesh-in-sr...  ...   runs\n",
              "26  wi-vs-ind-1st-t20i-india-tour-of-west-indies-2019  ...   runs\n",
              "27  wi-vs-ind-3rd-t20i-india-tour-of-west-indies-2019  ...   runs\n",
              "\n",
              "[28 rows x 14 columns]"
            ]
          },
          "metadata": {
            "tags": []
          },
          "execution_count": 37
        }
      ]
    },
    {
      "cell_type": "markdown",
      "metadata": {
        "id": "26mzCSAKXk6E"
      },
      "source": [
        "#Batting Analysis"
      ]
    },
    {
      "cell_type": "markdown",
      "metadata": {
        "id": "9rjThXaoTJP_"
      },
      "source": [
        "## Overall winning % of Indian Team"
      ]
    },
    {
      "cell_type": "code",
      "metadata": {
        "id": "jEJC7whE0uF6",
        "outputId": "64c69b9c-f0c3-458b-8077-53732485b92f",
        "colab": {
          "base_uri": "https://localhost:8080/"
        }
      },
      "source": [
        "#for a particular team to win in the the match based on innings(innings == result)\r\n",
        "matches_won = grp[grp['innings_no'] == grp['result']]\r\n",
        "print('Overall winning % :', round(((matches_won.shape[0]/num)*100), 2)) # num = no. of macthes India played."
      ],
      "execution_count": 38,
      "outputs": [
        {
          "output_type": "stream",
          "text": [
            "Overall winning % : 67.86\n"
          ],
          "name": "stdout"
        }
      ]
    },
    {
      "cell_type": "markdown",
      "metadata": {
        "id": "Gi4PTftxTYua"
      },
      "source": [
        "## Winning % of Indian Team when batting first vs when batting second"
      ]
    },
    {
      "cell_type": "code",
      "metadata": {
        "id": "I6WXK8Nd18Q0",
        "outputId": "3c30d8bb-5dcb-4f91-a6a2-2fc61c811754",
        "colab": {
          "base_uri": "https://localhost:8080/"
        }
      },
      "source": [
        "first = grp[grp['innings_no'] == 1]\r\n",
        "second = grp[grp['innings_no'] == 2]\r\n",
        "\r\n",
        "won1 = first[first['innings_no'] == first['result']]\r\n",
        "print('Batting First Winning % :', (won1.shape[0]/first.shape[0])*100)\r\n",
        "\r\n",
        "won2 = second[second['innings_no'] == second['result']]\r\n",
        "print('Batting Second Winning %:', (won2.shape[0]/second.shape[0])*100)"
      ],
      "execution_count": 39,
      "outputs": [
        {
          "output_type": "stream",
          "text": [
            "Batting First Winning % : 50.0\n",
            "Batting Second Winning %: 85.71428571428571\n"
          ],
          "name": "stdout"
        }
      ]
    },
    {
      "cell_type": "markdown",
      "metadata": {
        "id": "LYusurh9-G8k"
      },
      "source": [
        "## Batting Against Different Teams"
      ]
    },
    {
      "cell_type": "code",
      "metadata": {
        "id": "zY9jYAnk9-pD",
        "outputId": "273a7ea6-66d1-4c81-d184-4717af71c918",
        "colab": {
          "base_uri": "https://localhost:8080/",
          "height": 297
        }
      },
      "source": [
        "df1 = grp.groupby('bowling_team').apply(lambda x: x.shape[0]).reset_index(name='no')\r\n",
        "df1.head()\r\n",
        "df2 = grp.groupby('bowling_team').apply(lambda x: x[x['innings_no'] == x['result']].shape[0]).reset_index(name='won')\r\n",
        "df2"
      ],
      "execution_count": 40,
      "outputs": [
        {
          "output_type": "execute_result",
          "data": {
            "text/html": [
              "<div>\n",
              "<style scoped>\n",
              "    .dataframe tbody tr th:only-of-type {\n",
              "        vertical-align: middle;\n",
              "    }\n",
              "\n",
              "    .dataframe tbody tr th {\n",
              "        vertical-align: top;\n",
              "    }\n",
              "\n",
              "    .dataframe thead th {\n",
              "        text-align: right;\n",
              "    }\n",
              "</style>\n",
              "<table border=\"1\" class=\"dataframe\">\n",
              "  <thead>\n",
              "    <tr style=\"text-align: right;\">\n",
              "      <th></th>\n",
              "      <th>bowling_team</th>\n",
              "      <th>won</th>\n",
              "    </tr>\n",
              "  </thead>\n",
              "  <tbody>\n",
              "    <tr>\n",
              "      <th>0</th>\n",
              "      <td>aus</td>\n",
              "      <td>0</td>\n",
              "    </tr>\n",
              "    <tr>\n",
              "      <th>1</th>\n",
              "      <td>ban</td>\n",
              "      <td>3</td>\n",
              "    </tr>\n",
              "    <tr>\n",
              "      <th>2</th>\n",
              "      <td>eng</td>\n",
              "      <td>2</td>\n",
              "    </tr>\n",
              "    <tr>\n",
              "      <th>3</th>\n",
              "      <td>ire</td>\n",
              "      <td>2</td>\n",
              "    </tr>\n",
              "    <tr>\n",
              "      <th>4</th>\n",
              "      <td>nz</td>\n",
              "      <td>1</td>\n",
              "    </tr>\n",
              "    <tr>\n",
              "      <th>5</th>\n",
              "      <td>rsa</td>\n",
              "      <td>3</td>\n",
              "    </tr>\n",
              "    <tr>\n",
              "      <th>6</th>\n",
              "      <td>sl</td>\n",
              "      <td>1</td>\n",
              "    </tr>\n",
              "    <tr>\n",
              "      <th>7</th>\n",
              "      <td>wi</td>\n",
              "      <td>7</td>\n",
              "    </tr>\n",
              "  </tbody>\n",
              "</table>\n",
              "</div>"
            ],
            "text/plain": [
              "  bowling_team  won\n",
              "0          aus    0\n",
              "1          ban    3\n",
              "2          eng    2\n",
              "3          ire    2\n",
              "4           nz    1\n",
              "5          rsa    3\n",
              "6           sl    1\n",
              "7           wi    7"
            ]
          },
          "metadata": {
            "tags": []
          },
          "execution_count": 40
        }
      ]
    },
    {
      "cell_type": "code",
      "metadata": {
        "id": "R7TnaDRvs9w0",
        "outputId": "68b9d698-bd34-445e-b67c-1ffce47e84f7",
        "colab": {
          "base_uri": "https://localhost:8080/",
          "height": 297
        }
      },
      "source": [
        "df1"
      ],
      "execution_count": 41,
      "outputs": [
        {
          "output_type": "execute_result",
          "data": {
            "text/html": [
              "<div>\n",
              "<style scoped>\n",
              "    .dataframe tbody tr th:only-of-type {\n",
              "        vertical-align: middle;\n",
              "    }\n",
              "\n",
              "    .dataframe tbody tr th {\n",
              "        vertical-align: top;\n",
              "    }\n",
              "\n",
              "    .dataframe thead th {\n",
              "        text-align: right;\n",
              "    }\n",
              "</style>\n",
              "<table border=\"1\" class=\"dataframe\">\n",
              "  <thead>\n",
              "    <tr style=\"text-align: right;\">\n",
              "      <th></th>\n",
              "      <th>bowling_team</th>\n",
              "      <th>no</th>\n",
              "    </tr>\n",
              "  </thead>\n",
              "  <tbody>\n",
              "    <tr>\n",
              "      <th>0</th>\n",
              "      <td>aus</td>\n",
              "      <td>2</td>\n",
              "    </tr>\n",
              "    <tr>\n",
              "      <th>1</th>\n",
              "      <td>ban</td>\n",
              "      <td>3</td>\n",
              "    </tr>\n",
              "    <tr>\n",
              "      <th>2</th>\n",
              "      <td>eng</td>\n",
              "      <td>3</td>\n",
              "    </tr>\n",
              "    <tr>\n",
              "      <th>3</th>\n",
              "      <td>ire</td>\n",
              "      <td>2</td>\n",
              "    </tr>\n",
              "    <tr>\n",
              "      <th>4</th>\n",
              "      <td>nz</td>\n",
              "      <td>3</td>\n",
              "    </tr>\n",
              "    <tr>\n",
              "      <th>5</th>\n",
              "      <td>rsa</td>\n",
              "      <td>5</td>\n",
              "    </tr>\n",
              "    <tr>\n",
              "      <th>6</th>\n",
              "      <td>sl</td>\n",
              "      <td>2</td>\n",
              "    </tr>\n",
              "    <tr>\n",
              "      <th>7</th>\n",
              "      <td>wi</td>\n",
              "      <td>8</td>\n",
              "    </tr>\n",
              "  </tbody>\n",
              "</table>\n",
              "</div>"
            ],
            "text/plain": [
              "  bowling_team  no\n",
              "0          aus   2\n",
              "1          ban   3\n",
              "2          eng   3\n",
              "3          ire   2\n",
              "4           nz   3\n",
              "5          rsa   5\n",
              "6           sl   2\n",
              "7           wi   8"
            ]
          },
          "metadata": {
            "tags": []
          },
          "execution_count": 41
        }
      ]
    },
    {
      "cell_type": "code",
      "metadata": {
        "id": "6LSc5PgT_vBW",
        "outputId": "2dc2e9fa-b100-4793-b949-45ecbd91e01e",
        "colab": {
          "base_uri": "https://localhost:8080/",
          "height": 296
        }
      },
      "source": [
        "df2['win%'] = df2['won']/df1['no']\r\n",
        "fig = df2.plot.bar(x = 'bowling_team', y = 'win%', rot = 0, title = 'Win % against different teams').get_figure()"
      ],
      "execution_count": 42,
      "outputs": [
        {
          "output_type": "display_data",
          "data": {
            "image/png": "[encoded data removed]",
            "text/plain": [
              "<Figure size 432x288 with 1 Axes>"
            ]
          },
          "metadata": {
            "tags": [],
            "needs_background": "light"
          }
        }
      ]
    },
    {
      "cell_type": "markdown",
      "metadata": {
        "id": "a2-d4479XQ_T"
      },
      "source": [
        "## How much to score to win the match?"
      ]
    },
    {
      "cell_type": "code",
      "metadata": {
        "id": "U0UQ9s49_wSA",
        "outputId": "389466cb-bf1d-4e2d-aecd-21fb92a7ac3d",
        "colab": {
          "base_uri": "https://localhost:8080/",
          "height": 281
        }
      },
      "source": [
        "block1 = first[first['score'] < 140]\r\n",
        "won1 = block1[block1['innings_no'] == block1['result']].shape[0] # count\r\n",
        "lost1 = block1[block1['innings_no'] != block1['result']].shape[0]\r\n",
        "\r\n",
        "block2 = first[(first['score']>=140) & (first['score']<=180) ] \r\n",
        "won2=block2.groupby('year').apply(lambda x: x.shape[0] / x[x['event']=='out'].shape[0] ).reset_index(name='strike rate')\r\n",
        "lost2=block2[block2['innings_no']!=block2['result']].shape[0] \r\n",
        "\r\n",
        "block3 = first[first['score']>180] \r\n",
        "won3 = block3[block3['innings_no']==block3['result']].shape[0] \r\n",
        "lost3=block3[block3['innings_no']!=block3['result']].shape[0]\r\n",
        "\r\n",
        "data = {'win': [won1, won2, won3],\r\n",
        "        'lost': [lost1, lost2, lost3]};\r\n",
        "\r\n",
        "index = ['<140', '140-180', '>180']\r\n",
        "\r\n",
        "dataFrame = pd.DataFrame(data=data, index=index);\r\n",
        "dataFrame.head()\r\n",
        "axes = dataFrame.plot.bar(rot = 0, title = 'Win and Loss %').get_figure()\r\n"
      ],
      "execution_count": 43,
      "outputs": [
        {
          "output_type": "display_data",
          "data": {
            "image/png": "[encoded data removed]",
            "text/plain": [
              "<Figure size 432x288 with 1 Axes>"
            ]
          },
          "metadata": {
            "tags": [],
            "needs_background": "light"
          }
        }
      ]
    },
    {
      "cell_type": "markdown",
      "metadata": {
        "id": "6XgJjvk-n0es"
      },
      "source": [
        "## Strike Rate across the years"
      ]
    },
    {
      "cell_type": "code",
      "metadata": {
        "id": "omD_SKkGjkr2",
        "outputId": "9c736741-c3e4-40f8-c902-cd90175161f5",
        "colab": {
          "base_uri": "https://localhost:8080/"
        }
      },
      "source": [
        "batting_df=df[df['batting_team']=='ind']\r\n",
        "bowling_df=df[df['bowling_team']=='ind']\r\n",
        "\r\n",
        "#strike rate of indian team\r\n",
        "sr=(np.sum(batting_df['runs'].values)/batting_df.shape[0])*100\r\n",
        "print(\"Strike rate of Indian team:\",sr)"
      ],
      "execution_count": 44,
      "outputs": [
        {
          "output_type": "stream",
          "text": [
            "Strike rate of Indian team: 141.7989417989418\n"
          ],
          "name": "stdout"
        }
      ]
    },
    {
      "cell_type": "code",
      "metadata": {
        "id": "COiL24fqn5kf",
        "outputId": "6119cfb6-9490-4bc3-e1ef-9be7f90bf2cf",
        "colab": {
          "base_uri": "https://localhost:8080/",
          "height": 295
        }
      },
      "source": [
        "sr = batting_df.groupby('year').apply(lambda x: np.sum(x['runs'].values)/x.shape[0]*100).reset_index(name = 'strike rate')\r\n",
        "fig = sr.plot.bar(x = 'year', y = 'strike rate', rot = 0, title = \"Team Batting performance over the years\").get_figure()"
      ],
      "execution_count": 45,
      "outputs": [
        {
          "output_type": "display_data",
          "data": {
            "image/png": "[encoded data removed]",
            "text/plain": [
              "<Figure size 432x288 with 1 Axes>"
            ]
          },
          "metadata": {
            "tags": [],
            "needs_background": "light"
          }
        }
      ]
    },
    {
      "cell_type": "markdown",
      "metadata": {
        "id": "hFF63u1tpKcZ"
      },
      "source": [
        "**India had excellent strike rate in 2018.**"
      ]
    },
    {
      "cell_type": "markdown",
      "metadata": {
        "id": "VbBaZuFurbKO"
      },
      "source": [
        "## Team batting strike rate across different phases of a match:"
      ]
    },
    {
      "cell_type": "code",
      "metadata": {
        "id": "1vmUCvzlorZM",
        "outputId": "c79fdf1b-62b0-4509-b3c6-325d4d68b40a",
        "colab": {
          "base_uri": "https://localhost:8080/",
          "height": 281
        }
      },
      "source": [
        "powerplay_df =  df[df['over_number'] <= 5.6]\r\n",
        "middle_df = df[(df['over_number']>=6.1) & (df['over_number']<=14.6)]\r\n",
        "last_df = df[(df['over_number'] > 15.1) & (df['over_number'] <= 19.6)]\r\n",
        "\r\n",
        "powerplay_batting_df = powerplay_df[powerplay_df['batting_team']=='ind']\r\n",
        "middle_batting_df = middle_df[middle_df['batting_team']=='ind']\r\n",
        "last_batting_df = last_df[last_df['batting_team']=='ind']\r\n",
        "\r\n",
        "sr1=(np.sum(powerplay_batting_df['runs'].values)/powerplay_batting_df.shape[0])*100\r\n",
        "sr2=(np.sum(middle_batting_df['runs'].values)/middle_batting_df.shape[0])*100\r\n",
        "sr3=(np.sum(last_batting_df['runs'].values)/last_batting_df.shape[0])*100\r\n",
        "\r\n",
        "#plot\r\n",
        "data = {\"Strike rate\":[sr1,sr2,sr3]};\r\n",
        "\r\n",
        "index  = [\"Powerplay\", \"Middle\", \"Last 5 overs\"];\r\n",
        "\r\n",
        "# Dictionary loaded into a DataFrame       \r\n",
        "dataFrame = pd.DataFrame(data=data, index=index);\r\n",
        "\r\n",
        "# Draw a vertical bar chart\r\n",
        "axes = dataFrame.plot.bar(rot=0, title=\"Team India Batting Strike (Overs wise)\").get_figure()"
      ],
      "execution_count": 46,
      "outputs": [
        {
          "output_type": "display_data",
          "data": {
            "image/png": "[encoded data removed]",
            "text/plain": [
              "<Figure size 432x288 with 1 Axes>"
            ]
          },
          "metadata": {
            "tags": [],
            "needs_background": "light"
          }
        }
      ]
    },
    {
      "cell_type": "code",
      "metadata": {
        "id": "eNqcd6ydqu83",
        "outputId": "90dc8d94-ea9c-42c8-86b8-53e606ca675d",
        "colab": {
          "base_uri": "https://localhost:8080/",
          "height": 281
        }
      },
      "source": [
        "#Strike rate \r\n",
        "score = powerplay_batting_df.groupby(['year','match']).apply(lambda x:x['runs'].sum()).reset_index(name='score') \r\n",
        "pp=powerplay_batting_df.groupby(\"year\").apply(lambda x:(x['runs'].sum()/x.shape[0])*100).reset_index(name='strike rate')\r\n",
        "middle=middle_batting_df.groupby(\"year\").apply(lambda x:(x['runs'].sum()/x.shape[0])*100).reset_index(name='strike rate') \r\n",
        "last=last_batting_df.groupby(\"year\").apply(lambda x:(x['runs'].sum()/x.shape[0])*100).reset_index(name='strike rate')\r\n",
        "\r\n",
        "data = {\"Powerplay\":pp['strike rate'].values,\r\n",
        "        \"Middle overs\":middle['strike rate'].values,\r\n",
        "        \"Last 5 overs\":last['strike rate'].values\r\n",
        "        };\r\n",
        "\r\n",
        "index  = last['year'].values\r\n",
        "# Dictionary loaded into a DataFrame       \r\n",
        "dataFrame = pd.DataFrame(data=data, index=index);\r\n",
        "\r\n",
        "# Draw a vertical bar chart\r\n",
        "axes = dataFrame.plot.bar(rot=0, title=\"Team India batting strike rate\")\r\n",
        "#axes[1].legend(loc=2)  \r\n",
        "\r\n",
        "fig=axes.get_figure()\r\n"
      ],
      "execution_count": 47,
      "outputs": [
        {
          "output_type": "display_data",
          "data": {
            "image/png": "[encoded data removed]",
            "text/plain": [
              "<Figure size 432x288 with 1 Axes>"
            ]
          },
          "metadata": {
            "tags": [],
            "needs_background": "light"
          }
        }
      ]
    },
    {
      "cell_type": "markdown",
      "metadata": {
        "id": "Vw0npuBsSo7Q"
      },
      "source": [
        "# Bowling Analysis"
      ]
    },
    {
      "cell_type": "markdown",
      "metadata": {
        "id": "bOtmgnm8wy-I"
      },
      "source": [
        "In this section, let’s unleash the bowling performance of team India in terms of Economy rate, Bowling Strike rate, and Bowling Average. And also how the performance has evolved over time.\r\n",
        "\r\n",
        "**Economy rate** is defined as the average number of runs conceded per over\r\n",
        "\r\n",
        "**Bowling strike** rate can be defined as the average number of balls conceded for a wicket\r\n",
        "\r\n",
        "**Bowling Average** is the average number of runs conceded for a wicket"
      ]
    },
    {
      "cell_type": "code",
      "metadata": {
        "id": "O5Y2JelruLea",
        "outputId": "122bb5d2-1f26-4bdb-c47f-6b3ed4fe7752",
        "colab": {
          "base_uri": "https://localhost:8080/",
          "height": 281
        }
      },
      "source": [
        "powerplay_bowling_df = powerplay_df[powerplay_df['bowling_team']=='ind']\r\n",
        "middle_bowling_df = middle_df[middle_df['bowling_team']=='ind']\r\n",
        "last_bowling_df = last_df[last_df['bowling_team']=='ind']\r\n",
        "\r\n",
        "temp = powerplay_bowling_df.groupby('match').apply(lambda x:x['runs'].sum()).reset_index() # For every macth do sum of runs\r\n",
        "avg1 = np.median(temp[0].values)\r\n",
        "Eco_rate1 = avg1/6.0\r\n",
        "\r\n",
        "temp = middle_bowling_df.groupby('match').apply(lambda x:x['runs'].sum()).reset_index()\r\n",
        "avg2 = np.median(temp[0].values)\r\n",
        "Eco_rate2 = avg2/9.0\r\n",
        "\r\n",
        "temp = last_bowling_df.groupby('match').apply(lambda x:x['runs'].sum()).reset_index()\r\n",
        "avg3 = np.median(temp[0].values)\r\n",
        "Eco_rate3 = avg3/5.0\r\n",
        "\r\n",
        "data = {'Economy rate' : [Eco_rate1, Eco_rate2, Eco_rate3]}\r\n",
        "index = ['Powerplay', 'Middle', 'Last 5 Overs']\r\n",
        "\r\n",
        "dataFrame = pd.DataFrame(data = data, index = index)\r\n",
        "fig = dataFrame.plot.bar(rot = 0, title = 'Team India bowling performance').get_figure()"
      ],
      "execution_count": 48,
      "outputs": [
        {
          "output_type": "display_data",
          "data": {
            "image/png": "[encoded data removed]",
            "text/plain": [
              "<Figure size 432x288 with 1 Axes>"
            ]
          },
          "metadata": {
            "tags": [],
            "needs_background": "light"
          }
        }
      ]
    },
    {
      "cell_type": "markdown",
      "metadata": {
        "id": "V7eBEYB61Tv2"
      },
      "source": [
        "## Team India bowling performance across different phases of a match:"
      ]
    },
    {
      "cell_type": "code",
      "metadata": {
        "id": "TsXhVkRzzIrI",
        "outputId": "10382ba2-9e2c-497d-d3a2-dfbf1fa7deb5",
        "colab": {
          "base_uri": "https://localhost:8080/",
          "height": 281
        }
      },
      "source": [
        "sr1 = powerplay_bowling_df.shape[0]/powerplay_bowling_df[powerplay_bowling_df['event'] == 'out'].shape[0]\r\n",
        "sr2 = middle_bowling_df.shape[0]/middle_bowling_df[middle_bowling_df['event'] == 'out'].shape[0]\r\n",
        "sr3 = last_bowling_df.shape[0]/last_bowling_df[last_bowling_df['event'] == 'out'].shape[0]\r\n",
        "\r\n",
        "avg1=np.sum(powerplay_bowling_df['runs'].values)/(powerplay_bowling_df[powerplay_bowling_df['event']=='out'].shape[0])\r\n",
        "avg2=np.sum(middle_bowling_df['runs'].values)/(middle_bowling_df[middle_bowling_df['event']=='out'].shape[0])\r\n",
        "avg3=np.sum(last_bowling_df['runs'].values)/(last_bowling_df[last_bowling_df['event']=='out'].shape[0])\r\n",
        "\r\n",
        "data = {'Strike Rate': [sr1, sr2, sr3],\r\n",
        "        'Bowling Average': [avg1, avg2, avg3]}\r\n",
        "index = ['Powerplay', 'Middle', 'Last']\r\n",
        "dataFrame = pd.DataFrame(data = data, index = index)\r\n",
        "fig = dataFrame.plot.bar(rot = 0, title = 'Team India Bowling Performance').get_figure()"
      ],
      "execution_count": 49,
      "outputs": [
        {
          "output_type": "display_data",
          "data": {
            "image/png": "[encoded data removed]",
            "text/plain": [
              "<Figure size 432x288 with 1 Axes>"
            ]
          },
          "metadata": {
            "tags": [],
            "needs_background": "light"
          }
        }
      ]
    },
    {
      "cell_type": "markdown",
      "metadata": {
        "id": "zSGRJyyrSb3D"
      },
      "source": [
        "## Team India bowling performance across different phases of a match over the years:"
      ]
    },
    {
      "cell_type": "code",
      "metadata": {
        "id": "80xQeBij1i28",
        "outputId": "e6d27992-7872-4838-83e5-7a68ed5849fa",
        "colab": {
          "base_uri": "https://localhost:8080/",
          "height": 281
        }
      },
      "source": [
        "pp=powerplay_bowling_df.groupby('year').apply(lambda x: x.shape[0] / x[x['event']=='out'].shape[0] ).reset_index(name='strike rate')\r\n",
        "middle = middle_bowling_df.groupby('year').apply(lambda x: x.shape[0] / x[x['event'] == 'out'].shape[0]).reset_index(name = 'strike rate')\r\n",
        "last = last_bowling_df.groupby('year').apply(lambda x: x.shape[0] / x[x['event'] == 'out'].shape[0]).reset_index(name = 'strike rate')\r\n",
        "\r\n",
        "data = {'Powerplay':pp['strike rate'].values,\r\n",
        "        'Middle Overs':middle['strike rate'].values,\r\n",
        "        'Last Overs':last['strike rate'].values}\r\n",
        "index = last['year'].values\r\n",
        "\r\n",
        "dataFrame = pd.DataFrame(data=data, index=index);\r\n",
        "fig = dataFrame.plot.bar(rot=0, title=\"Team India bowling performance (Strike rate)\").get_figure()"
      ],
      "execution_count": 50,
      "outputs": [
        {
          "output_type": "display_data",
          "data": {
            "image/png": "[encoded data removed]",
            "text/plain": [
              "<Figure size 432x288 with 1 Axes>"
            ]
          },
          "metadata": {
            "tags": [],
            "needs_background": "light"
          }
        }
      ]
    },
    {
      "cell_type": "markdown",
      "metadata": {
        "id": "lmYFb1piDfbl"
      },
      "source": [
        "India was not good at bowling in middle oves as they took 34 balls to take a wicket."
      ]
    },
    {
      "cell_type": "markdown",
      "metadata": {
        "id": "cKJfulMtEC9E"
      },
      "source": [
        "# Boundary Analysis"
      ]
    },
    {
      "cell_type": "code",
      "metadata": {
        "id": "h1pz_KVX6uXJ",
        "outputId": "e0b1a5b9-6323-4b77-c048-78249afef8fa",
        "colab": {
          "base_uri": "https://localhost:8080/"
        }
      },
      "source": [
        "print('Average no of balls to hit 4:', round(batting_df.shape[0]/ batting_df['runs'].value_counts()[4]))\r\n",
        "print('Average no of balls to hit 6:', round(batting_df.shape[0]/ batting_df['runs'].value_counts()[6]))"
      ],
      "execution_count": 55,
      "outputs": [
        {
          "output_type": "stream",
          "text": [
            "Average no of balls to hit 4: 9\n",
            "Average no of balls to hit 6: 17\n"
          ],
          "name": "stdout"
        }
      ]
    },
    {
      "cell_type": "code",
      "metadata": {
        "id": "LHse08S5FWkL",
        "outputId": "a35a90a9-7341-46cf-bb5a-634c72df893c",
        "colab": {
          "base_uri": "https://localhost:8080/",
          "height": 281
        }
      },
      "source": [
        "df_4 = batting_df.groupby('year').apply(lambda x:x.shape[0] / x[x['runs'] == 4].shape[0]).reset_index(name = 'num_of_balls')\r\n",
        "df_6 = batting_df.groupby('year').apply(lambda x:x.shape[0] / x[x['runs'] == 6].shape[0]).reset_index(name = 'num_of_balls')\r\n",
        "\r\n",
        "data = {'4':df_4['num_of_balls'].values,\r\n",
        "        '6':df_6['num_of_balls'].values}\r\n",
        "index = df_4['year'].values\r\n",
        "\r\n",
        "dataFrame = pd.DataFrame(data=data, index=index)\r\n",
        "\r\n",
        "fig = dataFrame.plot.bar(rot = 0, title = \"Avg no. of balls to score boundary (year wise)\").get_figure()"
      ],
      "execution_count": 57,
      "outputs": [
        {
          "output_type": "display_data",
          "data": {
            "image/png": "[encoded data removed]",
            "text/plain": [
              "<Figure size 432x288 with 1 Axes>"
            ]
          },
          "metadata": {
            "tags": [],
            "needs_background": "light"
          }
        }
      ]
    },
    {
      "cell_type": "markdown",
      "metadata": {
        "id": "XzcUsWIjL5XQ"
      },
      "source": [
        "Team India power hitting improved a little bit from 2018."
      ]
    },
    {
      "cell_type": "markdown",
      "metadata": {
        "id": "73iupeJzMvSS"
      },
      "source": [
        "## Average number of balls to score a boundary across different phases of match."
      ]
    },
    {
      "cell_type": "code",
      "metadata": {
        "id": "7mSyxxyIK2On",
        "outputId": "8ba40f88-6041-45cb-c741-0c8f4d7c0d83",
        "colab": {
          "base_uri": "https://localhost:8080/",
          "height": 499
        }
      },
      "source": [
        "num1 = powerplay_batting_df.shape[0]/powerplay_batting_df['runs'].value_counts()[4]\r\n",
        "num2 = middle_batting_df.shape[0]/middle_batting_df['runs'].value_counts()[4]\r\n",
        "num3 = last_batting_df.shape[0]/last_batting_df['runs'].value_counts()[4]\r\n",
        "\r\n",
        "x_axis = ['PP','Middle','Last']\r\n",
        "y_axis = [num1, num2, num3]\r\n",
        "dataframe= pd.DataFrame({'overs':x_axis,'4':y_axis})\r\n",
        "\r\n",
        "num1=powerplay_batting_df.shape[0]/powerplay_batting_df['runs'].value_counts()[6]\r\n",
        "num2=middle_batting_df.shape[0]/middle_batting_df['runs'].value_counts()[6]\r\n",
        "num3=last_batting_df.shape[0]/last_batting_df['runs'].value_counts()[6]\r\n",
        "dataframe['6'] = [num1,num2,num3]\r\n",
        "\r\n",
        "data = {\"4\":dataframe['4'].values,\r\n",
        "\"6\":dataframe['6'].values\r\n",
        "};\r\n",
        "\r\n",
        "index = dataframe['overs'].values\r\n",
        "# Dictionary loaded into a DataFrame \r\n",
        "dataFrame = pd.DataFrame(data=data, index=index);\r\n",
        "\r\n",
        "# Draw a vertical bar chart\r\n",
        "fig = dataFrame.plot.bar(rot=0, title=\"Avg no. of balls to score boundary(overs wise)\",figsize=(10,8)).get_figure()"
      ],
      "execution_count": 61,
      "outputs": [
        {
          "output_type": "display_data",
          "data": {
            "image/png": "[encoded data removed]",
            "text/plain": [
              "<Figure size 720x576 with 1 Axes>"
            ]
          },
          "metadata": {
            "tags": [],
            "needs_background": "light"
          }
        }
      ]
    },
    {
      "cell_type": "markdown",
      "metadata": {
        "id": "fTSObP0FPOro"
      },
      "source": [
        "India clears 4 for every over in the power play and the last 5 overs.\r\n",
        "\r\n",
        "Team India smashes only 1 six in power play as the batsmen concede 24+ balls for a six."
      ]
    },
    {
      "cell_type": "markdown",
      "metadata": {
        "id": "USkYlZpCSM2w"
      },
      "source": [
        "## Average number of balls to score 4 across different phases over the years."
      ]
    },
    {
      "cell_type": "code",
      "metadata": {
        "id": "hrdkv1eGNis0",
        "outputId": "839e6b96-a7c8-4ead-abd3-ffb1f146c47b",
        "colab": {
          "base_uri": "https://localhost:8080/",
          "height": 281
        }
      },
      "source": [
        "pp = powerplay_batting_df.groupby('year').apply(lambda x: x.shape[0] / x[x['runs'] == 4].shape[0]).reset_index(name = 'no_of_balls')\r\n",
        "middle = middle_batting_df.groupby('year').apply(lambda x: x.shape[0] / x[x['runs'] == 4].shape[0]).reset_index(name = 'no_of_balls')\r\n",
        "last = last_batting_df.groupby('year').apply(lambda x: x.shape[0] / x[x['runs'] == 4].shape[0]).reset_index(name = 'no_of_balls')\r\n",
        "\r\n",
        "data = {\"Powerplay\":pp['no_of_balls'].values,\r\n",
        "        \"Middle overs\":middle['no_of_balls'].values,\r\n",
        "        \"Last 5 overs\":last['no_of_balls'].values\r\n",
        "        };\r\n",
        "index  = last['year'].values\r\n",
        "\r\n",
        "dataFrame = pd.DataFrame(data=data, index=index);\r\n",
        "\r\n",
        "axes = dataFrame.plot.bar(rot=0, title=\"Avg no. of balls to hit 4\")\r\n",
        "\r\n",
        "fig=axes.get_figure()"
      ],
      "execution_count": 63,
      "outputs": [
        {
          "output_type": "display_data",
          "data": {
            "image/png": "[encoded data removed]",
            "text/plain": [
              "<Figure size 432x288 with 1 Axes>"
            ]
          },
          "metadata": {
            "tags": [],
            "needs_background": "light"
          }
        }
      ]
    },
    {
      "cell_type": "markdown",
      "metadata": {
        "id": "4zCgfOrsRvNv"
      },
      "source": [
        "## Average number of balls to score 6 across different phases over the years."
      ]
    },
    {
      "cell_type": "code",
      "metadata": {
        "id": "gB1BOYvERdWR",
        "outputId": "a929d502-865d-4dae-e465-0b6d55033a9d",
        "colab": {
          "base_uri": "https://localhost:8080/",
          "height": 281
        }
      },
      "source": [
        "pp=powerplay_batting_df.groupby('year').apply(lambda x: x.shape[0] / x[x['runs']==6].shape[0] ).reset_index(name='no_of_balls')\r\n",
        "middle=middle_batting_df.groupby('year').apply(lambda x: x.shape[0] / x[x['runs']==6].shape[0] ).reset_index(name='no_of_balls')\r\n",
        "last=last_batting_df.groupby('year').apply(lambda x: x.shape[0] / x[x['runs']==6].shape[0] ).reset_index(name='no_of_balls')\r\n",
        "\r\n",
        "# A python dictionary\r\n",
        "data = {\"Powerplay\":pp['no_of_balls'].values,\r\n",
        "        \"Middle overs\":middle['no_of_balls'].values,\r\n",
        "        \"Last 5 overs\":last['no_of_balls'].values\r\n",
        "        };\r\n",
        "\r\n",
        "index  = last['year'].values\r\n",
        "# Dictionary loaded into a DataFrame       \r\n",
        "dataFrame = pd.DataFrame(data=data, index=index);\r\n",
        "\r\n",
        "# Draw a vertical bar chart\r\n",
        "axes = dataFrame.plot.bar(rot=0, title=\"Avg no. of balls to hit 6\")\r\n",
        "\r\n",
        "fig=axes.get_figure()"
      ],
      "execution_count": 65,
      "outputs": [
        {
          "output_type": "display_data",
          "data": {
            "image/png": "[encoded data removed]",
            "text/plain": [
              "<Figure size 432x288 with 1 Axes>"
            ]
          },
          "metadata": {
            "tags": [],
            "needs_background": "light"
          }
        }
      ]
    },
    {
      "cell_type": "code",
      "metadata": {
        "id": "ahKvL2ipSCh9"
      },
      "source": [
        ""
      ],
      "execution_count": null,
      "outputs": []
    }
  ]
}